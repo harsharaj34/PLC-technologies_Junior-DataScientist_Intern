{
 "cells": [
  {
   "cell_type": "code",
   "execution_count": 1,
   "id": "a44487f9-9565-4990-a1eb-75361eb0ea70",
   "metadata": {},
   "outputs": [
    {
     "name": "stdout",
     "output_type": "stream",
     "text": [
      "0    1\n",
      "1    2\n",
      "2    3\n",
      "3    4\n",
      "4    5\n",
      "dtype: int64\n"
     ]
    }
   ],
   "source": [
    "#Creating a Series from a List\n",
    "import pandas as pd\n",
    "\n",
    "data = [1, 2, 3, 4, 5]\n",
    "series_from_list = pd.Series(data)\n",
    "print(series_from_list)\n"
   ]
  },
  {
   "cell_type": "code",
   "execution_count": 2,
   "id": "df3b683a-eb76-4a52-bf72-70e739e0787d",
   "metadata": {},
   "outputs": [
    {
     "name": "stdout",
     "output_type": "stream",
     "text": [
      "a    1\n",
      "b    2\n",
      "c    3\n",
      "d    4\n",
      "dtype: int64\n"
     ]
    }
   ],
   "source": [
    "#creatig a series from dictionary\n",
    "\n",
    "data = {'a': 1, 'b': 2, 'c': 3, 'd': 4}\n",
    "series_from_dict = pd.Series(data)\n",
    "print(series_from_dict)\n"
   ]
  },
  {
   "cell_type": "code",
   "execution_count": 3,
   "id": "ef2a5bc3-865d-48a9-91dd-423d8ffa6fda",
   "metadata": {},
   "outputs": [
    {
     "name": "stdout",
     "output_type": "stream",
     "text": [
      "0    5\n",
      "1    5\n",
      "2    5\n",
      "3    5\n",
      "4    5\n",
      "dtype: int64\n"
     ]
    }
   ],
   "source": [
    "#Creating a Series from a Scalar Value\n",
    "scalar_value = 5\n",
    "series_from_scalar = pd.Series(scalar_value, index=[0, 1, 2, 3, 4])\n",
    "print(series_from_scalar)\n"
   ]
  },
  {
   "cell_type": "code",
   "execution_count": 4,
   "id": "410cc199-28f2-4889-959f-d6f885feb514",
   "metadata": {},
   "outputs": [
    {
     "name": "stdout",
     "output_type": "stream",
     "text": [
      "0    1\n",
      "1    2\n",
      "2    3\n",
      "3    4\n",
      "4    5\n",
      "dtype: int32\n"
     ]
    }
   ],
   "source": [
    "#Creating a Series from a Numpy Array\n",
    "import numpy as np\n",
    "\n",
    "data = np.array([1, 2, 3, 4, 5])\n",
    "series_from_array = pd.Series(data)\n",
    "print(series_from_array)\n"
   ]
  },
  {
   "cell_type": "code",
   "execution_count": 5,
   "id": "393e5b02-887c-43c6-88dc-76994cff0d61",
   "metadata": {},
   "outputs": [
    {
     "name": "stdout",
     "output_type": "stream",
     "text": [
      "a    1\n",
      "b    2\n",
      "c    3\n",
      "d    4\n",
      "e    5\n",
      "dtype: int64\n"
     ]
    }
   ],
   "source": [
    "#Creating a Series with a Custom Index\n",
    "data = [1, 2, 3, 4, 5]\n",
    "custom_index = ['a', 'b', 'c', 'd', 'e']\n",
    "series_with_custom_index = pd.Series(data, index=custom_index)\n",
    "print(series_with_custom_index)\n"
   ]
  },
  {
   "cell_type": "code",
   "execution_count": 6,
   "id": "9b44f861-c798-4d30-a15c-0b2bd1b8e285",
   "metadata": {},
   "outputs": [
    {
     "name": "stdout",
     "output_type": "stream",
     "text": [
      "      Name  Age           City\n",
      "0    Alice   25       New York\n",
      "1      Bob   30  San Francisco\n",
      "2  Charlie   35    Los Angeles\n"
     ]
    }
   ],
   "source": [
    "#Creating a DataFrame from a Dictionary of Lists\n",
    "import pandas as pd\n",
    "\n",
    "data = {\n",
    "    'Name': ['Alice', 'Bob', 'Charlie'],\n",
    "    'Age': [25, 30, 35],\n",
    "    'City': ['New York', 'San Francisco', 'Los Angeles']\n",
    "}\n",
    "df_from_dict_of_lists = pd.DataFrame(data)\n",
    "print(df_from_dict_of_lists)\n"
   ]
  },
  {
   "cell_type": "code",
   "execution_count": 7,
   "id": "a3b57f0b-f2db-4396-a3e8-bc9fc1658a1b",
   "metadata": {},
   "outputs": [
    {
     "name": "stdout",
     "output_type": "stream",
     "text": [
      "      Name  Age           City\n",
      "0    Alice   25       New York\n",
      "1      Bob   30  San Francisco\n",
      "2  Charlie   35    Los Angeles\n"
     ]
    }
   ],
   "source": [
    "#Creating a DataFrame from a Dictionary of Series\n",
    "data = {\n",
    "    'Name': pd.Series(['Alice', 'Bob', 'Charlie']),\n",
    "    'Age': pd.Series([25, 30, 35]),\n",
    "    'City': pd.Series(['New York', 'San Francisco', 'Los Angeles'])\n",
    "}\n",
    "df_from_dict_of_series = pd.DataFrame(data)\n",
    "print(df_from_dict_of_series)\n"
   ]
  },
  {
   "cell_type": "code",
   "execution_count": 8,
   "id": "863d5bac-bdfd-4ad4-93fe-89b1464a75ed",
   "metadata": {},
   "outputs": [
    {
     "name": "stdout",
     "output_type": "stream",
     "text": [
      "  Age           City\n",
      "0  25       New York\n",
      "1  30  San Francisco\n",
      "2  35    Los Angeles\n"
     ]
    }
   ],
   "source": [
    "# Creating a DataFrame from a NumPy Array\n",
    "import numpy as np\n",
    "\n",
    "data = np.array([\n",
    "    [25, 'New York'],\n",
    "    [30, 'San Francisco'],\n",
    "    [35, 'Los Angeles']\n",
    "])\n",
    "df_from_array = pd.DataFrame(data, columns=['Age', 'City'])\n",
    "print(df_from_array)\n"
   ]
  },
  {
   "cell_type": "code",
   "execution_count": 9,
   "id": "0e8c8c75-d99b-4707-8d8c-d332c2067c0a",
   "metadata": {},
   "outputs": [
    {
     "name": "stdout",
     "output_type": "stream",
     "text": [
      "     sepal_length  sepal_width  petal_length  petal_width    species\n",
      "0             5.1          3.5           1.4          0.2     setosa\n",
      "1             4.9          3.0           1.4          0.2     setosa\n",
      "2             4.7          3.2           1.3          0.2     setosa\n",
      "3             4.6          3.1           1.5          0.2     setosa\n",
      "4             5.0          3.6           1.4          0.2     setosa\n",
      "..            ...          ...           ...          ...        ...\n",
      "145           6.7          3.0           5.2          2.3  virginica\n",
      "146           6.3          2.5           5.0          1.9  virginica\n",
      "147           6.5          3.0           5.2          2.0  virginica\n",
      "148           6.2          3.4           5.4          2.3  virginica\n",
      "149           5.9          3.0           5.1          1.8  virginica\n",
      "\n",
      "[150 rows x 5 columns]\n"
     ]
    }
   ],
   "source": [
    "# Creating a DataFrame from a CSV File\n",
    "df_from_csv = pd.read_csv('C:/Users/Harsha/Downloads/iris.csv')\n",
    "print(df_from_csv)\n"
   ]
  },
  {
   "cell_type": "code",
   "execution_count": 10,
   "id": "708fcb45-1691-4988-b445-e3a7ffb2bcd4",
   "metadata": {},
   "outputs": [],
   "source": [
    "#Using loc & iloc\n",
    "import pandas as pd\n",
    "\n",
    "data = {\n",
    "    'Name': ['Alice', 'Bob', 'Charlie'],\n",
    "    'Age': [25, 30, 35],\n",
    "    'City': ['New York', 'San Francisco', 'Los Angeles']\n",
    "}\n",
    "df = pd.DataFrame(data)\n"
   ]
  },
  {
   "cell_type": "code",
   "execution_count": 11,
   "id": "4b267e1a-aa0f-4939-9214-91a94aa71f45",
   "metadata": {},
   "outputs": [
    {
     "data": {
      "text/html": [
       "<div>\n",
       "<style scoped>\n",
       "    .dataframe tbody tr th:only-of-type {\n",
       "        vertical-align: middle;\n",
       "    }\n",
       "\n",
       "    .dataframe tbody tr th {\n",
       "        vertical-align: top;\n",
       "    }\n",
       "\n",
       "    .dataframe thead th {\n",
       "        text-align: right;\n",
       "    }\n",
       "</style>\n",
       "<table border=\"1\" class=\"dataframe\">\n",
       "  <thead>\n",
       "    <tr style=\"text-align: right;\">\n",
       "      <th></th>\n",
       "      <th>Name</th>\n",
       "      <th>Age</th>\n",
       "      <th>City</th>\n",
       "    </tr>\n",
       "  </thead>\n",
       "  <tbody>\n",
       "    <tr>\n",
       "      <th>0</th>\n",
       "      <td>Alice</td>\n",
       "      <td>25</td>\n",
       "      <td>New York</td>\n",
       "    </tr>\n",
       "    <tr>\n",
       "      <th>1</th>\n",
       "      <td>Bob</td>\n",
       "      <td>30</td>\n",
       "      <td>San Francisco</td>\n",
       "    </tr>\n",
       "    <tr>\n",
       "      <th>2</th>\n",
       "      <td>Charlie</td>\n",
       "      <td>35</td>\n",
       "      <td>Los Angeles</td>\n",
       "    </tr>\n",
       "  </tbody>\n",
       "</table>\n",
       "</div>"
      ],
      "text/plain": [
       "      Name  Age           City\n",
       "0    Alice   25       New York\n",
       "1      Bob   30  San Francisco\n",
       "2  Charlie   35    Los Angeles"
      ]
     },
     "execution_count": 11,
     "metadata": {},
     "output_type": "execute_result"
    }
   ],
   "source": [
    "df"
   ]
  },
  {
   "cell_type": "code",
   "execution_count": 12,
   "id": "36af0387-39c8-4ff7-b655-f57e449cb404",
   "metadata": {},
   "outputs": [
    {
     "name": "stdout",
     "output_type": "stream",
     "text": [
      "30\n"
     ]
    }
   ],
   "source": [
    "# Access a single value using loc\n",
    "age_of_bob = df.loc[1, 'Age']\n",
    "print(age_of_bob) "
   ]
  },
  {
   "cell_type": "code",
   "execution_count": 13,
   "id": "7f32d046-f5e0-46c3-8811-df909f50be94",
   "metadata": {},
   "outputs": [
    {
     "name": "stdout",
     "output_type": "stream",
     "text": [
      "      Name           City\n",
      "1      Bob  San Francisco\n",
      "2  Charlie    Los Angeles\n"
     ]
    }
   ],
   "source": [
    "# Access multiple rows and columns using loc\n",
    "subset = df.loc[1:2, ['Name', 'City']]\n",
    "print(subset)\n"
   ]
  },
  {
   "cell_type": "code",
   "execution_count": 14,
   "id": "cb412d72-8a18-48ee-bd91-91e588df9c56",
   "metadata": {},
   "outputs": [
    {
     "name": "stdout",
     "output_type": "stream",
     "text": [
      "      Name  Age         City\n",
      "2  Charlie   35  Los Angeles\n"
     ]
    }
   ],
   "source": [
    "# Conditional selection using loc\n",
    "older_than_30 = df.loc[df['Age'] > 30]\n",
    "print(older_than_30)\n"
   ]
  },
  {
   "cell_type": "code",
   "execution_count": 15,
   "id": "49aae87c-7a52-4685-a07f-9f28774ce8fe",
   "metadata": {},
   "outputs": [
    {
     "name": "stdout",
     "output_type": "stream",
     "text": [
      "30\n"
     ]
    }
   ],
   "source": [
    "# Access a single value using iloc\n",
    "age_of_bob = df.iloc[1, 1]\n",
    "print(age_of_bob) \n"
   ]
  },
  {
   "cell_type": "code",
   "execution_count": 17,
   "id": "d2124f6f-c1ca-465c-a272-dfb7bdb4d045",
   "metadata": {},
   "outputs": [
    {
     "name": "stdout",
     "output_type": "stream",
     "text": [
      "      Name  Age\n",
      "1      Bob   30\n",
      "2  Charlie   35\n"
     ]
    }
   ],
   "source": [
    "# Access multiple rows and columns using iloc\n",
    "subset = df.iloc[1:3, 0:2]\n",
    "print(subset)\n",
    "\n"
   ]
  },
  {
   "cell_type": "code",
   "execution_count": 20,
   "id": "80c31f47-a6eb-41a4-b9e9-6d966a4bcac1",
   "metadata": {},
   "outputs": [
    {
     "name": "stdout",
     "output_type": "stream",
     "text": [
      "      Name  Age\n",
      "1      Bob   30\n",
      "2  Charlie   35\n"
     ]
    }
   ],
   "source": [
    "# Access multiple rows and columns using iloc\n",
    "subset = df.iloc[1:3, 0:2]\n",
    "print(subset)\n"
   ]
  },
  {
   "cell_type": "code",
   "execution_count": 21,
   "id": "beaba2dc-65fa-47f0-a48a-c6114fc74101",
   "metadata": {},
   "outputs": [
    {
     "data": {
      "text/html": [
       "<div>\n",
       "<style scoped>\n",
       "    .dataframe tbody tr th:only-of-type {\n",
       "        vertical-align: middle;\n",
       "    }\n",
       "\n",
       "    .dataframe tbody tr th {\n",
       "        vertical-align: top;\n",
       "    }\n",
       "\n",
       "    .dataframe thead th {\n",
       "        text-align: right;\n",
       "    }\n",
       "</style>\n",
       "<table border=\"1\" class=\"dataframe\">\n",
       "  <thead>\n",
       "    <tr style=\"text-align: right;\">\n",
       "      <th></th>\n",
       "      <th>Name</th>\n",
       "      <th>Age</th>\n",
       "      <th>Salary</th>\n",
       "    </tr>\n",
       "  </thead>\n",
       "  <tbody>\n",
       "    <tr>\n",
       "      <th>0</th>\n",
       "      <td>Alice</td>\n",
       "      <td>25</td>\n",
       "      <td>50000</td>\n",
       "    </tr>\n",
       "    <tr>\n",
       "      <th>1</th>\n",
       "      <td>Bob</td>\n",
       "      <td>30</td>\n",
       "      <td>60000</td>\n",
       "    </tr>\n",
       "    <tr>\n",
       "      <th>2</th>\n",
       "      <td>Charlie</td>\n",
       "      <td>35</td>\n",
       "      <td>70000</td>\n",
       "    </tr>\n",
       "    <tr>\n",
       "      <th>3</th>\n",
       "      <td>David</td>\n",
       "      <td>40</td>\n",
       "      <td>80000</td>\n",
       "    </tr>\n",
       "    <tr>\n",
       "      <th>4</th>\n",
       "      <td>Eve</td>\n",
       "      <td>45</td>\n",
       "      <td>90000</td>\n",
       "    </tr>\n",
       "  </tbody>\n",
       "</table>\n",
       "</div>"
      ],
      "text/plain": [
       "      Name  Age  Salary\n",
       "0    Alice   25   50000\n",
       "1      Bob   30   60000\n",
       "2  Charlie   35   70000\n",
       "3    David   40   80000\n",
       "4      Eve   45   90000"
      ]
     },
     "execution_count": 21,
     "metadata": {},
     "output_type": "execute_result"
    }
   ],
   "source": [
    "#statistical functions in pandas\n",
    "import pandas as pd\n",
    "\n",
    "data = {\n",
    "    'Name': ['Alice', 'Bob', 'Charlie', 'David', 'Eve'],\n",
    "    'Age': [25, 30, 35, 40, 45],\n",
    "    'Salary': [50000, 60000, 70000, 80000, 90000]\n",
    "}\n",
    "df = pd.DataFrame(data)\n",
    "df\n",
    "\n",
    "\n"
   ]
  },
  {
   "cell_type": "code",
   "execution_count": 23,
   "id": "2114edca-c994-4756-bcf6-8cb9bd976bc5",
   "metadata": {},
   "outputs": [
    {
     "name": "stdout",
     "output_type": "stream",
     "text": [
      "             Age        Salary\n",
      "count   5.000000      5.000000\n",
      "mean   35.000000  70000.000000\n",
      "std     7.905694  15811.388301\n",
      "min    25.000000  50000.000000\n",
      "25%    30.000000  60000.000000\n",
      "50%    35.000000  70000.000000\n",
      "75%    40.000000  80000.000000\n",
      "max    45.000000  90000.000000\n"
     ]
    }
   ],
   "source": [
    "#Summary statistics for the entire DataFrame\n",
    "summary_stats=df.describe()\n",
    "print(summary_stats)"
   ]
  },
  {
   "cell_type": "code",
   "execution_count": 24,
   "id": "032dc685-2a5e-4b67-9a63-5f47a5a3404b",
   "metadata": {},
   "outputs": [
    {
     "name": "stdout",
     "output_type": "stream",
     "text": [
      "count     5.000000\n",
      "mean     35.000000\n",
      "std       7.905694\n",
      "min      25.000000\n",
      "25%      30.000000\n",
      "50%      35.000000\n",
      "75%      40.000000\n",
      "max      45.000000\n",
      "Name: Age, dtype: float64\n"
     ]
    }
   ],
   "source": [
    "# Summary statistics for a specific column\n",
    "summary_stats_age = df['Age'].describe()\n",
    "print(summary_stats_age)"
   ]
  },
  {
   "cell_type": "code",
   "execution_count": 25,
   "id": "fda30e03-3fb5-4b17-9200-14f0ba787339",
   "metadata": {},
   "outputs": [
    {
     "name": "stdout",
     "output_type": "stream",
     "text": [
      "Mean Age: 35.0\n",
      "Median Salary: 70000.0\n",
      "Mode Age: 0    25\n",
      "1    30\n",
      "2    35\n",
      "3    40\n",
      "4    45\n",
      "Name: Age, dtype: int64\n"
     ]
    }
   ],
   "source": [
    "# Mean\n",
    "mean_age = df['Age'].mean()\n",
    "print(f\"Mean Age: {mean_age}\")\n",
    "\n",
    "# Median\n",
    "median_salary = df['Salary'].median()\n",
    "print(f\"Median Salary: {median_salary}\")\n",
    "\n",
    "# Mode\n",
    "mode_age = df['Age'].mode()\n",
    "print(f\"Mode Age: {mode_age}\")\n"
   ]
  },
  {
   "cell_type": "code",
   "execution_count": 28,
   "id": "29fee5a9-86fb-4cf7-9813-e351cb6a7ed8",
   "metadata": {},
   "outputs": [
    {
     "name": "stdout",
     "output_type": "stream",
     "text": [
      "Total Salary: 350000\n",
      "Minimum Age: 25\n",
      "Maximum Age: 45\n"
     ]
    }
   ],
   "source": [
    "# Sum\n",
    "total_salary = df['Salary'].sum()\n",
    "print(f\"Total Salary: {total_salary}\")\n",
    "\n",
    "# Minimum\n",
    "min_age = df['Age'].min()\n",
    "print(f\"Minimum Age: {min_age}\")\n",
    "\n",
    "# Maximum\n",
    "max_age = df['Age'].max()\n",
    "print(f\"Maximum Age: {max_age}\")\n"
   ]
  },
  {
   "cell_type": "code",
   "execution_count": 29,
   "id": "7a326995-f729-46bf-a394-517d3eb66225",
   "metadata": {},
   "outputs": [
    {
     "name": "stdout",
     "output_type": "stream",
     "text": [
      "7.905694150420948\n",
      "Variance of Salary: 250000000.0\n"
     ]
    }
   ],
   "source": [
    "# Standard Deviation\n",
    "std_age = df['Age'].std()\n",
    "print(std_age)\n",
    "\n",
    "# Variance\n",
    "var_salary = df['Salary'].var()\n",
    "print(f\"Variance of Salary: {var_salary}\")\n"
   ]
  },
  {
   "cell_type": "code",
   "execution_count": 30,
   "id": "672fa613-309a-4f1c-8d8d-48a28a115fe1",
   "metadata": {},
   "outputs": [
    {
     "name": "stdout",
     "output_type": "stream",
     "text": [
      "Aggregated statistics:\n",
      "        Age         Salary\n",
      "mean  35.0            NaN\n",
      "min   25.0            NaN\n",
      "max   45.0            NaN\n",
      "sum    NaN  350000.000000\n",
      "std    NaN   15811.388301\n"
     ]
    }
   ],
   "source": [
    "# Applying multiple functions\n",
    "aggregated_stats = df.agg({\n",
    "    'Age': ['mean', 'min', 'max'],\n",
    "    'Salary': ['sum', 'std']\n",
    "})\n",
    "print(\"Aggregated statistics:\\n\", aggregated_stats)\n"
   ]
  },
  {
   "cell_type": "code",
   "execution_count": 31,
   "id": "83603180-c077-4c9f-b828-6ddeb9f6a968",
   "metadata": {},
   "outputs": [
    {
     "name": "stdout",
     "output_type": "stream",
     "text": [
      "   employee_id employee_name  employee_salary\n",
      "0            1          John            70000\n",
      "1            2          Anna            80000\n"
     ]
    }
   ],
   "source": [
    "#Merge\n",
    "import pandas as pd\n",
    "\n",
    "df1 = pd.DataFrame({\n",
    "    'employee_id': [1, 2, 3],\n",
    "    'employee_name': ['John', 'Anna', 'Peter']\n",
    "})\n",
    "\n",
    "df2 = pd.DataFrame({\n",
    "    'employee_id': [1, 2, 4],\n",
    "    'employee_salary': [70000, 80000, 60000]\n",
    "})\n",
    "\n",
    "# Merging on a common column\n",
    "merged_df = pd.merge(df1, df2, on='employee_id')\n",
    "print(merged_df)\n"
   ]
  },
  {
   "cell_type": "code",
   "execution_count": 32,
   "id": "416b8a39-d961-4db5-a4a8-84528c0faf38",
   "metadata": {},
   "outputs": [
    {
     "name": "stdout",
     "output_type": "stream",
     "text": [
      "   emp_id employee_name  employee_id  employee_salary\n",
      "0       1          John            1            70000\n",
      "1       2          Anna            2            80000\n"
     ]
    }
   ],
   "source": [
    "#Merge on different columns\n",
    "df1 = pd.DataFrame({\n",
    "    'emp_id': [1, 2, 3],\n",
    "    'employee_name': ['John', 'Anna', 'Peter']\n",
    "})\n",
    "\n",
    "df2 = pd.DataFrame({\n",
    "    'employee_id': [1, 2, 4],\n",
    "    'employee_salary': [70000, 80000, 60000]\n",
    "})\n",
    "\n",
    "# Merging with different column names\n",
    "merged_df = pd.merge(df1, df2, left_on='emp_id', right_on='employee_id')\n",
    "print(merged_df)\n"
   ]
  },
  {
   "cell_type": "code",
   "execution_count": 37,
   "id": "6f9bf334-cfb7-4494-8088-43c681687c6f",
   "metadata": {},
   "outputs": [
    {
     "name": "stdout",
     "output_type": "stream",
     "text": [
      "DataFrame 1:\n",
      "   employee_id employee_name\n",
      "0            1          John\n",
      "1            2          Anna\n",
      "2            3         Peter\n",
      "\n",
      "DataFrame 2:\n",
      "   employee_id  employee_salary\n",
      "0            1            70000\n",
      "1            2            80000\n",
      "2            4            60000\n",
      "\n",
      "Outer Join Result:\n",
      "   employee_id employee_name  employee_salary\n",
      "0            1          John          70000.0\n",
      "1            2          Anna          80000.0\n",
      "2            3         Peter              NaN\n",
      "3            4           NaN          60000.0\n"
     ]
    }
   ],
   "source": [
    "#join\n",
    "import pandas as pd\n",
    "\n",
    "# Define the first DataFrame\n",
    "df1 = pd.DataFrame({\n",
    "    'employee_id': [1, 2, 3],\n",
    "    'employee_name': ['John', 'Anna', 'Peter']\n",
    "})\n",
    "\n",
    "# Define the second DataFrame\n",
    "df2 = pd.DataFrame({\n",
    "    'employee_id': [1, 2, 4],\n",
    "    'employee_salary': [70000, 80000, 60000]\n",
    "})\n",
    "\n",
    "# Display the DataFrames to verify column names\n",
    "print(\"DataFrame 1:\")\n",
    "print(df1)\n",
    "print(\"\\nDataFrame 2:\")\n",
    "print(df2)\n",
    "\n",
    "# Perform outer join on the 'employee_id' column\n",
    "outer_merge = pd.merge(df1, df2, on='employee_id', how='outer')\n",
    "print(\"\\nOuter Join Result:\")\n",
    "print(outer_merge)\n"
   ]
  },
  {
   "cell_type": "code",
   "execution_count": 38,
   "id": "fe720173-3e4f-4f32-b206-552dec9c0deb",
   "metadata": {},
   "outputs": [
    {
     "name": "stdout",
     "output_type": "stream",
     "text": [
      "\n",
      "left Join Result:\n",
      "   employee_id employee_name  employee_salary\n",
      "0            1          John          70000.0\n",
      "1            2          Anna          80000.0\n",
      "2            3         Peter              NaN\n"
     ]
    }
   ],
   "source": [
    "left_merge = pd.merge(df1, df2, on='employee_id', how='left')\n",
    "print(\"\\nleft Join Result:\")\n",
    "print(left_merge)\n"
   ]
  },
  {
   "cell_type": "code",
   "execution_count": 39,
   "id": "ad215d7a-4f08-471c-9ecc-386b2879b350",
   "metadata": {},
   "outputs": [
    {
     "name": "stdout",
     "output_type": "stream",
     "text": [
      "ight Join Result:\n",
      "   employee_id employee_name  employee_salary\n",
      "0            1          John            70000\n",
      "1            2          Anna            80000\n",
      "2            4           NaN            60000\n"
     ]
    }
   ],
   "source": [
    "right_merge = pd.merge(df1, df2, on='employee_id', how='right')\n",
    "print(\"\\right Join Result:\")\n",
    "print(right_merge)\n"
   ]
  },
  {
   "cell_type": "code",
   "execution_count": 41,
   "id": "2559c1f4-9f54-4bf8-8abe-095601ce21ad",
   "metadata": {},
   "outputs": [
    {
     "name": "stdout",
     "output_type": "stream",
     "text": [
      "    A   B   A   B\n",
      "0  A0  B0  A3  B3\n",
      "1  A1  B1  A4  B4\n",
      "2  A2  B2  A5  B5\n"
     ]
    }
   ],
   "source": [
    "#concatenation\n",
    "df1 = pd.DataFrame({\n",
    "    'A': ['A0', 'A1', 'A2'],\n",
    "    'B': ['B0', 'B1', 'B2']\n",
    "})\n",
    "\n",
    "df2 = pd.DataFrame({\n",
    "    'A': ['A3', 'A4', 'A5'],\n",
    "    'B': ['B3', 'B4', 'B5']\n",
    "})\n",
    "\n",
    "# Concatenating along rows\n",
    "concatenated_df = pd.concat([df1, df2], axis=1)\n",
    "print(concatenated_df)\n"
   ]
  },
  {
   "cell_type": "code",
   "execution_count": 42,
   "id": "7fd73fb9-e307-4eed-9c8e-a324998fc0ee",
   "metadata": {},
   "outputs": [
    {
     "name": "stdout",
     "output_type": "stream",
     "text": [
      "Original DataFrame:\n",
      "    Name  Age      City\n",
      "0   John   28  New York\n",
      "1   Anna   24    London\n",
      "2   John   28  New York\n",
      "3   Anna   24    London\n",
      "4  Peter   35    Berlin\n"
     ]
    }
   ],
   "source": [
    "#How to find duplicates\n",
    "import pandas as pd\n",
    "\n",
    "data = {\n",
    "    'Name': ['John', 'Anna', 'John', 'Anna', 'Peter'],\n",
    "    'Age': [28, 24, 28, 24, 35],\n",
    "    'City': ['New York', 'London', 'New York', 'London', 'Berlin']\n",
    "}\n",
    "\n",
    "df = pd.DataFrame(data)\n",
    "print(\"Original DataFrame:\")\n",
    "print(df)\n"
   ]
  },
  {
   "cell_type": "code",
   "execution_count": 43,
   "id": "53d9cd91-59a5-4f7b-95b2-cb034a3120a5",
   "metadata": {},
   "outputs": [
    {
     "name": "stdout",
     "output_type": "stream",
     "text": [
      "\n",
      "Duplicated Rows:\n",
      "0    False\n",
      "1    False\n",
      "2     True\n",
      "3     True\n",
      "4    False\n",
      "dtype: bool\n"
     ]
    }
   ],
   "source": [
    "# Find duplicates in the DataFrame\n",
    "duplicates = df.duplicated()\n",
    "print(\"\\nDuplicated Rows:\")\n",
    "print(duplicates)\n"
   ]
  },
  {
   "cell_type": "code",
   "execution_count": 44,
   "id": "e6d3783f-a079-4b68-86a3-b55a66cf1941",
   "metadata": {},
   "outputs": [
    {
     "name": "stdout",
     "output_type": "stream",
     "text": [
      "\n",
      "Duplicate Rows:\n",
      "   Name  Age      City\n",
      "2  John   28  New York\n",
      "3  Anna   24    London\n"
     ]
    }
   ],
   "source": [
    "# Display duplicate rows\n",
    "duplicate_rows = df[df.duplicated()]\n",
    "print(\"\\nDuplicate Rows:\")\n",
    "print(duplicate_rows)\n"
   ]
  },
  {
   "cell_type": "code",
   "execution_count": 45,
   "id": "d94fc5e4-2c02-4d5b-ab86-2401733df470",
   "metadata": {},
   "outputs": [
    {
     "name": "stdout",
     "output_type": "stream",
     "text": [
      "\n",
      "DataFrame After Removing Duplicates (Keeping First):\n",
      "    Name  Age      City\n",
      "0   John   28  New York\n",
      "1   Anna   24    London\n",
      "4  Peter   35    Berlin\n"
     ]
    }
   ],
   "source": [
    "# Remove duplicate rows\n",
    "df_no_duplicates = df.drop_duplicates()\n",
    "print(\"\\nDataFrame After Removing Duplicates (Keeping First):\")\n",
    "print(df_no_duplicates)\n"
   ]
  },
  {
   "cell_type": "code",
   "execution_count": null,
   "id": "78257b77-1ae9-4303-b44a-7990fcd12961",
   "metadata": {},
   "outputs": [],
   "source": []
  }
 ],
 "metadata": {
  "kernelspec": {
   "display_name": "Python 3 (ipykernel)",
   "language": "python",
   "name": "python3"
  },
  "language_info": {
   "codemirror_mode": {
    "name": "ipython",
    "version": 3
   },
   "file_extension": ".py",
   "mimetype": "text/x-python",
   "name": "python",
   "nbconvert_exporter": "python",
   "pygments_lexer": "ipython3",
   "version": "3.11.5"
  }
 },
 "nbformat": 4,
 "nbformat_minor": 5
}
