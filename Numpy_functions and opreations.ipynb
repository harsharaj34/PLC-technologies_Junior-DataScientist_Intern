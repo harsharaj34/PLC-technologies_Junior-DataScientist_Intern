{
 "cells": [
  {
   "cell_type": "code",
   "execution_count": 1,
   "id": "50987ccc-46cc-4215-9807-6e15ce15d300",
   "metadata": {},
   "outputs": [
    {
     "name": "stdout",
     "output_type": "stream",
     "text": [
      "[1 2 3 4 5]\n"
     ]
    }
   ],
   "source": [
    "import numpy as np\n",
    "\n",
    "# From a Python list\n",
    "array_from_list = np.array([1, 2, 3, 4, 5])\n",
    "print(array_from_list)\n",
    "\n"
   ]
  },
  {
   "cell_type": "code",
   "execution_count": 2,
   "id": "ccdd791c-ad1e-40ec-96ba-5ff7d3fdc1fa",
   "metadata": {},
   "outputs": [
    {
     "name": "stdout",
     "output_type": "stream",
     "text": [
      "[1 2 3 4 5]\n"
     ]
    }
   ],
   "source": [
    "# From a Python tuple\n",
    "array_from_tuple = np.array((1, 2, 3, 4, 5))\n",
    "print(array_from_tuple)\n"
   ]
  },
  {
   "cell_type": "code",
   "execution_count": 3,
   "id": "259d0954-a6be-46c8-9bb3-3d0525fb1c78",
   "metadata": {},
   "outputs": [
    {
     "name": "stdout",
     "output_type": "stream",
     "text": [
      "[[0. 0. 0.]\n",
      " [0. 0. 0.]\n",
      " [0. 0. 0.]]\n"
     ]
    }
   ],
   "source": [
    "zeros_array = np.zeros((3, 3))\n",
    "print(zeros_array)\n"
   ]
  },
  {
   "cell_type": "code",
   "execution_count": 4,
   "id": "a85503ea-c6b5-4e32-b572-e2fc00063131",
   "metadata": {},
   "outputs": [
    {
     "name": "stdout",
     "output_type": "stream",
     "text": [
      "[[1. 1. 1.]\n",
      " [1. 1. 1.]\n",
      " [1. 1. 1.]]\n"
     ]
    }
   ],
   "source": [
    "ones_array = np.ones((3, 3))\n",
    "print(ones_array)\n"
   ]
  },
  {
   "cell_type": "code",
   "execution_count": 5,
   "id": "d7487a7a-8586-41f4-80ac-be6b98b69fec",
   "metadata": {},
   "outputs": [
    {
     "name": "stdout",
     "output_type": "stream",
     "text": [
      "[[1. 1. 1.]\n",
      " [1. 1. 1.]\n",
      " [1. 1. 1.]]\n"
     ]
    }
   ],
   "source": [
    "empty_array = np.empty((3, 3))\n",
    "print(empty_array)\n"
   ]
  },
  {
   "cell_type": "code",
   "execution_count": 6,
   "id": "bd63350b-b641-4b98-9fdc-add64103a3d2",
   "metadata": {},
   "outputs": [
    {
     "name": "stdout",
     "output_type": "stream",
     "text": [
      "[[7 7 7]\n",
      " [7 7 7]\n",
      " [7 7 7]]\n"
     ]
    }
   ],
   "source": [
    "full_array = np.full((3, 3), 7)\n",
    "print(full_array)\n"
   ]
  },
  {
   "cell_type": "code",
   "execution_count": 7,
   "id": "0f817a8e-24c3-4fef-969c-a055b040488a",
   "metadata": {},
   "outputs": [
    {
     "name": "stdout",
     "output_type": "stream",
     "text": [
      "[0 2 4 6 8]\n"
     ]
    }
   ],
   "source": [
    "arange_array = np.arange(0, 10, 2)\n",
    "print(arange_array)\n"
   ]
  },
  {
   "cell_type": "code",
   "execution_count": 8,
   "id": "3c885cc9-4915-4d85-826c-fbad73bcf5d6",
   "metadata": {},
   "outputs": [
    {
     "name": "stdout",
     "output_type": "stream",
     "text": [
      "[0.   0.25 0.5  0.75 1.  ]\n"
     ]
    }
   ],
   "source": [
    "linspace_array = np.linspace(0, 1, 5)\n",
    "print(linspace_array)\n"
   ]
  },
  {
   "cell_type": "code",
   "execution_count": 9,
   "id": "d76a1c39-7493-42c8-bc54-f34c0b7403cf",
   "metadata": {},
   "outputs": [
    {
     "name": "stdout",
     "output_type": "stream",
     "text": [
      "1\n",
      "5\n"
     ]
    }
   ],
   "source": [
    "#array indexing and slicing\n",
    "#1d\n",
    "import numpy as np\n",
    "\n",
    "a = np.array([1, 2, 3, 4, 5])\n",
    "print(a[0])  \n",
    "print(a[4])  \n"
   ]
  },
  {
   "cell_type": "code",
   "execution_count": 10,
   "id": "4fd15dd4-fc71-43d6-9f77-c4b9b01e6f82",
   "metadata": {},
   "outputs": [
    {
     "name": "stdout",
     "output_type": "stream",
     "text": [
      "1\n",
      "6\n"
     ]
    }
   ],
   "source": [
    "#2d\n",
    "b = np.array([[1, 2, 3], [4, 5, 6], [7, 8, 9]])\n",
    "print(b[0, 0])  \n",
    "print(b[1, 2])  \n"
   ]
  },
  {
   "cell_type": "code",
   "execution_count": 11,
   "id": "36091db1-09df-4bbd-8ede-76b0ea179097",
   "metadata": {},
   "outputs": [
    {
     "name": "stdout",
     "output_type": "stream",
     "text": [
      "1\n",
      "8\n"
     ]
    }
   ],
   "source": [
    "#3d\n",
    "c = np.array([[[1, 2], [3, 4]], [[5, 6], [7, 8]]])\n",
    "print(c[0, 0, 0])  \n",
    "print(c[1, 1, 1])  \n"
   ]
  },
  {
   "cell_type": "code",
   "execution_count": 12,
   "id": "caf28a59-3cf0-4bfe-96d2-ade42a6baccb",
   "metadata": {},
   "outputs": [
    {
     "name": "stdout",
     "output_type": "stream",
     "text": [
      "[2 3 4]\n",
      "[1 2 3]\n",
      "[4 5]\n",
      "[1 3 5]\n"
     ]
    }
   ],
   "source": [
    "#slicing 1d\n",
    "a = np.array([1, 2, 3, 4, 5])\n",
    "print(a[1:4])  \n",
    "print(a[:3])   \n",
    "print(a[3:])   \n",
    "print(a[::2])  \n"
   ]
  },
  {
   "cell_type": "code",
   "execution_count": 13,
   "id": "ac63d021-53c8-4ba0-bb25-2a023cc2160f",
   "metadata": {},
   "outputs": [
    {
     "name": "stdout",
     "output_type": "stream",
     "text": [
      "[[2 3]\n",
      " [5 6]]\n",
      "[2 5 8]\n",
      "[4 5 6]\n",
      "[[1 3]\n",
      " [7 9]]\n"
     ]
    }
   ],
   "source": [
    "#2d\n",
    "b = np.array([[1, 2, 3], [4, 5, 6], [7, 8, 9]])\n",
    "print(b[0:2, 1:3])  \n",
    "print(b[:, 1])     \n",
    "print(b[1, :])      \n",
    "print(b[::2, ::2])  \n",
    "                \n"
   ]
  },
  {
   "cell_type": "code",
   "execution_count": 14,
   "id": "51f89b2e-9478-43a5-8b8c-00c3209fb8b0",
   "metadata": {},
   "outputs": [
    {
     "name": "stdout",
     "output_type": "stream",
     "text": [
      "[[1 2]\n",
      " [3 4]\n",
      " [5 6]]\n"
     ]
    }
   ],
   "source": [
    "#Array manipulation\n",
    "#reshape\n",
    "import numpy as np\n",
    "a = np.array([[1, 2, 3], [4, 5, 6]])\n",
    "reshaped_a = a.reshape((3, 2))\n",
    "print(reshaped_a)\n",
    "\n"
   ]
  },
  {
   "cell_type": "code",
   "execution_count": 15,
   "id": "c0a1e924-4391-440f-9ad7-25fda5b95bf3",
   "metadata": {},
   "outputs": [
    {
     "name": "stdout",
     "output_type": "stream",
     "text": [
      "[1 2 3 4 5 6]\n"
     ]
    }
   ],
   "source": [
    "#flattend\n",
    "flattened_a = a.flatten()\n",
    "print(flattened_a)\n"
   ]
  },
  {
   "cell_type": "code",
   "execution_count": 16,
   "id": "181cf738-b621-4b86-95d0-3b1b7cb91db7",
   "metadata": {},
   "outputs": [
    {
     "name": "stdout",
     "output_type": "stream",
     "text": [
      "[[1 4]\n",
      " [2 5]\n",
      " [3 6]]\n"
     ]
    }
   ],
   "source": [
    "#transpose\n",
    "transposed_a = a.transpose()\n",
    "print(transposed_a)\n"
   ]
  },
  {
   "cell_type": "code",
   "execution_count": 19,
   "id": "4028576d-67e9-4db5-99b7-961deee9a9f9",
   "metadata": {},
   "outputs": [
    {
     "name": "stdout",
     "output_type": "stream",
     "text": [
      "[[1 2 3]\n",
      " [4 5 6]\n",
      " [7 8 9]]\n"
     ]
    }
   ],
   "source": [
    "#concatenate\n",
    "b = np.array([[7, 8, 9]])\n",
    "concatenated_a = np.concatenate((a, b), axis=0)\n",
    "print(concatenated_a)\n",
    "\n"
   ]
  },
  {
   "cell_type": "code",
   "execution_count": 23,
   "id": "f427e097-3d7f-400e-a4ea-d58834a89246",
   "metadata": {},
   "outputs": [
    {
     "name": "stdout",
     "output_type": "stream",
     "text": [
      "[array([1, 2]), array([3, 4]), array([5, 6])]\n"
     ]
    }
   ],
   "source": [
    "#splitting the arrays\n",
    "d = np.array([1, 2, 3, 4, 5, 6])\n",
    "split_d = np.split(d, 3)\n",
    "print(split_d)\n",
    "\n"
   ]
  },
  {
   "cell_type": "code",
   "execution_count": 24,
   "id": "d3c7ea0e-2f01-4b71-8127-ee7f39d13d71",
   "metadata": {},
   "outputs": [
    {
     "name": "stdout",
     "output_type": "stream",
     "text": [
      "[1 2 3 4 5 6]\n"
     ]
    }
   ],
   "source": [
    "#append\n",
    "f = np.array([1, 2, 3])\n",
    "appended_f = np.append(f, [4, 5, 6])\n",
    "print(appended_f)\n",
    "\n"
   ]
  },
  {
   "cell_type": "code",
   "execution_count": 25,
   "id": "0b23e2c5-c5d9-4d6e-aaae-10fa2885df07",
   "metadata": {},
   "outputs": [
    {
     "name": "stdout",
     "output_type": "stream",
     "text": [
      "[ 1  9 10  2  3]\n"
     ]
    }
   ],
   "source": [
    "#insert\n",
    "g = np.array([1, 2, 3])\n",
    "inserted_g = np.insert(g, 1, [9, 10])\n",
    "print(inserted_g)\n",
    "\n"
   ]
  },
  {
   "cell_type": "code",
   "execution_count": 26,
   "id": "01453f61-14b7-427d-bf39-bed04ea6b7f8",
   "metadata": {},
   "outputs": [
    {
     "name": "stdout",
     "output_type": "stream",
     "text": [
      "[1 3 5]\n"
     ]
    }
   ],
   "source": [
    "#delete\n",
    "h = np.array([1, 2, 3, 4, 5])\n",
    "deleted_h = np.delete(h, [1, 3])\n",
    "print(deleted_h)\n",
    "\n"
   ]
  },
  {
   "cell_type": "code",
   "execution_count": 27,
   "id": "54373e27-e206-4283-95f3-8648387b343f",
   "metadata": {},
   "outputs": [
    {
     "name": "stdout",
     "output_type": "stream",
     "text": [
      "Sum: [ 6  8 10 12]\n",
      "Difference: [-4 -4 -4 -4]\n",
      "Product: [ 5 12 21 32]\n",
      "Quotient: [0.2        0.33333333 0.42857143 0.5       ]\n",
      "Exponential: [ 2.71828183  7.3890561  20.08553692 54.59815003]\n",
      "Square Root: [1.         1.41421356 1.73205081 2.        ]\n"
     ]
    }
   ],
   "source": [
    "#Mathematical operation\n",
    "#Arithmetc operations\n",
    "import numpy as np\n",
    "\n",
    "# Create two arrays\n",
    "a = np.array([1, 2, 3, 4])\n",
    "b = np.array([5, 6, 7, 8])\n",
    "\n",
    "# Addition\n",
    "sum_ab = np.add(a, b)\n",
    "print(\"Sum:\", sum_ab)\n",
    "\n",
    "# Subtraction\n",
    "diff_ab = np.subtract(a, b)\n",
    "print(\"Difference:\", diff_ab)\n",
    "\n",
    "# Multiplication\n",
    "prod_ab = np.multiply(a, b)\n",
    "print(\"Product:\", prod_ab)\n",
    "\n",
    "# Division\n",
    "quot_ab = np.divide(a, b)\n",
    "print(\"Quotient:\", quot_ab)    \n",
    "\n",
    "# Exponentiation\n",
    "exp_a = np.exp(a)\n",
    "print(\"Exponential:\", exp_a)\n",
    "\n",
    "# Square root\n",
    "sqrt_a = np.sqrt(a)\n",
    "print(\"Square Root:\", sqrt_a)\n",
    "\n"
   ]
  },
  {
   "cell_type": "code",
   "execution_count": 28,
   "id": "ab2fae84-4c64-4673-8b08-30cdd379f9dd",
   "metadata": {},
   "outputs": [
    {
     "name": "stdout",
     "output_type": "stream",
     "text": [
      "Sum: 15\n",
      "Mean: 3.0\n",
      "Standard Deviation: 1.4142135623730951\n",
      "Minimum: 1\n",
      "Maximum: 5\n"
     ]
    }
   ],
   "source": [
    "#Aggregate functions\n",
    "# Create an array\n",
    "c = np.array([1, 2, 3, 4, 5])\n",
    "\n",
    "# Sum\n",
    "sum_c = np.sum(c)\n",
    "print(\"Sum:\", sum_c)\n",
    "\n",
    "# Mean\n",
    "mean_c = np.mean(c)\n",
    "print(\"Mean:\", mean_c)\n",
    "\n",
    "# Standard deviation\n",
    "std_c = np.std(c)\n",
    "print(\"Standard Deviation:\", std_c)\n",
    "\n",
    "# Minimum\n",
    "min_c = np.min(c)\n",
    "print(\"Minimum:\", min_c)\n",
    "\n",
    "# Maximum\n",
    "max_c = np.max(c)\n",
    "print(\"Maximum:\", max_c)\n",
    "\n",
    "\n"
   ]
  },
  {
   "cell_type": "code",
   "execution_count": 29,
   "id": "8007ce9f-5fc8-479a-b1ce-d4664dbdbe29",
   "metadata": {},
   "outputs": [
    {
     "name": "stdout",
     "output_type": "stream",
     "text": [
      "Inverse of A:\n",
      " [[-2.   1. ]\n",
      " [ 1.5 -0.5]]\n"
     ]
    }
   ],
   "source": [
    "#linear algebra\n",
    "# Create a 2x2 matrix\n",
    "A = np.array([[1, 2], [3, 4]])\n",
    "\n",
    "# Inverse\n",
    "A_inv = np.linalg.inv(A)\n",
    "print(\"Inverse of A:\\n\", A_inv)"
   ]
  },
  {
   "cell_type": "code",
   "execution_count": 30,
   "id": "5064eca9-0a2b-45e1-8d20-1f98603154bc",
   "metadata": {},
   "outputs": [
    {
     "name": "stdout",
     "output_type": "stream",
     "text": [
      "Determinant of A: -2.0000000000000004\n"
     ]
    }
   ],
   "source": [
    "#Determinant\n",
    "import numpy as np\n",
    "A = np.array([[1, 2], [3, 4]])\n",
    "\n",
    "# Compute the determinant of matrix A\n",
    "det_A = np.linalg.det(A)\n",
    "print(\"Determinant of A:\", det_A)\n"
   ]
  },
  {
   "cell_type": "code",
   "execution_count": 31,
   "id": "71018d1d-a17b-47b6-aeb9-cf8e979488a0",
   "metadata": {},
   "outputs": [
    {
     "name": "stdout",
     "output_type": "stream",
     "text": [
      "Eigenvalues: [-0.37228132  5.37228132]\n",
      "Eigenvectors:\n",
      " [[-0.82456484 -0.41597356]\n",
      " [ 0.56576746 -0.90937671]]\n"
     ]
    }
   ],
   "source": [
    "#eigenvalues and eigenvectors\n",
    "import numpy as np\n",
    "\n",
    "# Create a 2x2 matrix A\n",
    "A = np.array([[1, 2], [3, 4]])\n",
    "\n",
    "# Compute the eigenvalues and eigenvectors of matrix A\n",
    "eigvals, eigvecs = np.linalg.eig(A)\n",
    "\n",
    "# Print the eigenvalues\n",
    "print(\"Eigenvalues:\", eigvals)\n",
    "\n",
    "# Print the eigenvectors\n",
    "print(\"Eigenvectors:\\n\", eigvecs)\n"
   ]
  },
  {
   "cell_type": "code",
   "execution_count": 32,
   "id": "5da72526-5ff0-45eb-a3bc-bfae0e8fa5d8",
   "metadata": {},
   "outputs": [
    {
     "name": "stdout",
     "output_type": "stream",
     "text": [
      "Matrix Multiplication of A and B:\n",
      " [[19 22]\n",
      " [43 50]]\n"
     ]
    }
   ],
   "source": [
    "#Matrix multiplication\n",
    "# Matrix multiplication\n",
    "B = np.array([[5, 6], [7, 8]])\n",
    "matmul_AB = np.matmul(A, B)\n",
    "print(\"Matrix Multiplication of A and B:\\n\", matmul_AB)\n"
   ]
  },
  {
   "cell_type": "code",
   "execution_count": 33,
   "id": "afe32a59-8620-4ea2-9e11-91afc71c8e96",
   "metadata": {},
   "outputs": [
    {
     "name": "stdout",
     "output_type": "stream",
     "text": [
      "Single random number: 0.24621084261865955\n",
      "1D array of random numbers: [0.7825009  0.75018742 0.29843686 0.42987531 0.46391464]\n",
      "2D array of random numbers:\n",
      " [[0.14954854 0.98952633 0.01916511 0.73447044]\n",
      " [0.3158708  0.87913617 0.71124743 0.21434116]\n",
      " [0.90366665 0.35684235 0.55594948 0.21943733]]\n"
     ]
    }
   ],
   "source": [
    "#Random number #rand()\n",
    "import numpy as np\n",
    "\n",
    "# Generate a single random number\n",
    "random_number = np.random.rand()\n",
    "print(\"Single random number:\", random_number)\n",
    "\n",
    "# Generate a 1D array of random numbers\n",
    "random_array_1d = np.random.rand(5)\n",
    "print(\"1D array of random numbers:\", random_array_1d)\n",
    "\n",
    "# Generate a 2D array of random numbers\n",
    "random_array_2d = np.random.rand(3, 4)\n",
    "print(\"2D array of random numbers:\\n\", random_array_2d)\n"
   ]
  },
  {
   "cell_type": "code",
   "execution_count": 34,
   "id": "ee524073-652a-431e-9d84-3da204e54831",
   "metadata": {},
   "outputs": [
    {
     "name": "stdout",
     "output_type": "stream",
     "text": [
      "Single random integer: 8\n",
      "1D array of random integers: [5 6 9 2 9]\n",
      "2D array of random integers:\n",
      " [[4 8 6 4]\n",
      " [3 9 4 9]\n",
      " [7 1 7 1]]\n"
     ]
    }
   ],
   "source": [
    "# Generate a single random integer\n",
    "#randint()\n",
    "random_int = np.random.randint(1, 10)\n",
    "print(\"Single random integer:\", random_int)\n",
    "\n",
    "# Generate a 1D array of random integers\n",
    "random_int_array_1d = np.random.randint(1, 10, size=5)\n",
    "print(\"1D array of random integers:\", random_int_array_1d)\n",
    "\n",
    "# Generate a 2D array of random integers\n",
    "random_int_array_2d = np.random.randint(1, 10, size=(3, 4))\n",
    "print(\"2D array of random integers:\\n\", random_int_array_2d)\n"
   ]
  },
  {
   "cell_type": "code",
   "execution_count": 37,
   "id": "ce3e23fe-fa0c-42ca-b92e-a147e9f4792a",
   "metadata": {},
   "outputs": [
    {
     "name": "stdout",
     "output_type": "stream",
     "text": [
      "Single random sample: 1\n",
      "Random samples with replacement: [1 5 2]\n",
      "Random samples without replacement: [2 1 3]\n"
     ]
    }
   ],
   "source": [
    "#choice\n",
    "# Define an array to sample from\n",
    "array = np.array([1, 2, 3, 4, 5])\n",
    "\n",
    "# Generate a single random sample\n",
    "random_sample = np.random.choice(array)\n",
    "print(\"Single random sample:\", random_sample)\n",
    "\n",
    "# Generate multiple random samples (with replacement)\n",
    "random_samples_with_replacement = np.random.choice(array, size=3)\n",
    "print(\"Random samples with replacement:\", random_samples_with_replacement)\n",
    "\n",
    "# Generate multiple random samples (without replacement)\n",
    "random_samples_without_replacement = np.random.choice(array, size=3, replace=False)\n",
    "print(\"Random samples without replacement:\", random_samples_without_replacement)\n"
   ]
  },
  {
   "cell_type": "code",
   "execution_count": 38,
   "id": "8cf8f724-ee5d-4f4b-88d7-12a04db1bc1b",
   "metadata": {},
   "outputs": [
    {
     "name": "stdout",
     "output_type": "stream",
     "text": [
      "Mean: 3.0\n"
     ]
    }
   ],
   "source": [
    "#statistical performance\n",
    "#mean\n",
    "import numpy as np\n",
    "data = np.array([1, 2, 3, 4, 5])\n",
    "mean = np.mean(data)\n",
    "print(\"Mean:\", mean)\n"
   ]
  },
  {
   "cell_type": "code",
   "execution_count": 39,
   "id": "6b089dff-116e-4bbb-8589-057a4a2e4213",
   "metadata": {},
   "outputs": [
    {
     "name": "stdout",
     "output_type": "stream",
     "text": [
      "Median: 3.0\n"
     ]
    }
   ],
   "source": [
    "#median\n",
    "median = np.median(data)\n",
    "print(\"Median:\", median)\n"
   ]
  },
  {
   "cell_type": "code",
   "execution_count": 40,
   "id": "a5a32b32-7d43-4193-bb3b-ea42ee05d93c",
   "metadata": {},
   "outputs": [
    {
     "name": "stdout",
     "output_type": "stream",
     "text": [
      "Standard Deviation: 1.4142135623730951\n"
     ]
    }
   ],
   "source": [
    "#standard deviation\n",
    "std_dev = np.std(data)\n",
    "print(\"Standard Deviation:\", std_dev)\n"
   ]
  },
  {
   "cell_type": "code",
   "execution_count": 41,
   "id": "f8e5a568-1aae-4bdf-a4d6-d99888d8b7b7",
   "metadata": {},
   "outputs": [
    {
     "name": "stdout",
     "output_type": "stream",
     "text": [
      "Variance: 2.0\n"
     ]
    }
   ],
   "source": [
    "#variance\n",
    "variance = np.var(data)\n",
    "print(\"Variance:\", variance)\n"
   ]
  },
  {
   "cell_type": "code",
   "execution_count": 42,
   "id": "ea763e3b-b25a-4213-a8bd-a0ea4cde8431",
   "metadata": {},
   "outputs": [
    {
     "name": "stdout",
     "output_type": "stream",
     "text": [
      "Min: 1\n",
      "Max: 5\n"
     ]
    }
   ],
   "source": [
    "#Maximum and minimum values in the array\n",
    "min_value = np.min(data)\n",
    "max_value = np.max(data)\n",
    "print(\"Min:\", min_value)\n",
    "print(\"Max:\", max_value)\n"
   ]
  },
  {
   "cell_type": "code",
   "execution_count": null,
   "id": "ef83afd5-1d9a-4a0e-a1fb-eee6b3540813",
   "metadata": {},
   "outputs": [],
   "source": []
  }
 ],
 "metadata": {
  "kernelspec": {
   "display_name": "Python 3 (ipykernel)",
   "language": "python",
   "name": "python3"
  },
  "language_info": {
   "codemirror_mode": {
    "name": "ipython",
    "version": 3
   },
   "file_extension": ".py",
   "mimetype": "text/x-python",
   "name": "python",
   "nbconvert_exporter": "python",
   "pygments_lexer": "ipython3",
   "version": "3.11.5"
  }
 },
 "nbformat": 4,
 "nbformat_minor": 5
}
